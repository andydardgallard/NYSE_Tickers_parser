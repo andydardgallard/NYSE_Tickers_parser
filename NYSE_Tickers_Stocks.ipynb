{
 "cells": [
  {
   "cell_type": "code",
   "execution_count": 1,
   "metadata": {
    "collapsed": true
   },
   "outputs": [],
   "source": [
    "import requests\n",
    "from bs4 import BeautifulSoup\n",
    "import string\n",
    "import csv\n",
    "\n",
    "def write_csv(new_line):\n",
    "    with open(\"NYSE_tickers.txt\", \"a\" ) as fout:\n",
    "        writer=csv.writer(fout)\n",
    "        writer.writerow((new_line))"
   ]
  },
  {
   "cell_type": "code",
   "execution_count": 2,
   "metadata": {
    "collapsed": false
   },
   "outputs": [
    {
     "name": "stdout",
     "output_type": "stream",
     "text": [
      "3246\n"
     ]
    }
   ],
   "source": [
    "base_url=\"https://en.wikipedia.org/wiki/Companies_listed_on_the_New_York_Stock_Exchange_\"\n",
    "tickers=[]\n",
    "for i in string.ascii_uppercase:\n",
    "    url=base_url+\"(\"+i+\")\"\n",
    "    html=requests.get(url).text\n",
    "    soup=BeautifulSoup(html, 'lxml')\n",
    "    total_tickers=soup.find_all('a', class_=\"external text\")\n",
    "    \n",
    "    for j in total_tickers:\n",
    "        tickers.append(j.text.strip())\n",
    "        new_line=[j.text.strip()]\n",
    "        write_csv(new_line)\n",
    "\n",
    "url_dig=\"https://en.wikipedia.org/wiki/Companies_listed_on_the_New_York_Stock_Exchange_(0-9)\"\n",
    "html_dig=requests.get(url_dig).text\n",
    "soup_dig=BeautifulSoup(html_dig, 'lxml')\n",
    "total_tickers_dig=soup_dig.find_all('a', class_=\"external text\")\n",
    "for k in total_tickers_dig:\n",
    "        tickers.append(k.text.strip())\n",
    "        new_line=[k.text.strip()]\n",
    "        write_csv(new_line)\n",
    "        \n",
    "print len(tickers)"
   ]
  },
  {
   "cell_type": "code",
   "execution_count": 3,
   "metadata": {
    "collapsed": false
   },
   "outputs": [
    {
     "name": "stdout",
     "output_type": "stream",
     "text": [
      "WUBA\n"
     ]
    }
   ],
   "source": [
    "print new_line"
   ]
  },
  {
   "cell_type": "code",
   "execution_count": null,
   "metadata": {
    "collapsed": true
   },
   "outputs": [],
   "source": []
  }
 ],
 "metadata": {
  "anaconda-cloud": {},
  "kernelspec": {
   "display_name": "Python [Root]",
   "language": "python",
   "name": "Python [Root]"
  },
  "language_info": {
   "codemirror_mode": {
    "name": "ipython",
    "version": 2
   },
   "file_extension": ".py",
   "mimetype": "text/x-python",
   "name": "python",
   "nbconvert_exporter": "python",
   "pygments_lexer": "ipython2",
   "version": "2.7.12"
  }
 },
 "nbformat": 4,
 "nbformat_minor": 0
}
